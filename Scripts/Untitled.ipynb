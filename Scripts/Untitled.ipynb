{
 "cells": [
  {
   "cell_type": "code",
   "execution_count": 1,
   "metadata": {},
   "outputs": [],
   "source": [
    "import pandas as pd "
   ]
  },
  {
   "cell_type": "code",
   "execution_count": 2,
   "metadata": {},
   "outputs": [],
   "source": [
    "data_frame = pd.read_excel('/Users/mstermo/Degree_Project/Patient-metadata.xlsx',sheet_name = 'Sheet2')"
   ]
  },
  {
   "cell_type": "code",
   "execution_count": 3,
   "metadata": {},
   "outputs": [
    {
     "data": {
      "text/html": [
       "<div>\n",
       "<style scoped>\n",
       "    .dataframe tbody tr th:only-of-type {\n",
       "        vertical-align: middle;\n",
       "    }\n",
       "\n",
       "    .dataframe tbody tr th {\n",
       "        vertical-align: top;\n",
       "    }\n",
       "\n",
       "    .dataframe thead th {\n",
       "        text-align: right;\n",
       "    }\n",
       "</style>\n",
       "<table border=\"1\" class=\"dataframe\">\n",
       "  <thead>\n",
       "    <tr style=\"text-align: right;\">\n",
       "      <th></th>\n",
       "      <th>sample_ID</th>\n",
       "      <th>Sex</th>\n",
       "    </tr>\n",
       "  </thead>\n",
       "  <tbody>\n",
       "    <tr>\n",
       "      <th>0</th>\n",
       "      <td>ccRCC-1</td>\n",
       "      <td>F</td>\n",
       "    </tr>\n",
       "    <tr>\n",
       "      <th>1</th>\n",
       "      <td>ccRCC-2</td>\n",
       "      <td>M</td>\n",
       "    </tr>\n",
       "    <tr>\n",
       "      <th>2</th>\n",
       "      <td>ccRCC-3</td>\n",
       "      <td>M</td>\n",
       "    </tr>\n",
       "    <tr>\n",
       "      <th>3</th>\n",
       "      <td>ccRCC-4</td>\n",
       "      <td>M</td>\n",
       "    </tr>\n",
       "    <tr>\n",
       "      <th>4</th>\n",
       "      <td>ccRCC-5</td>\n",
       "      <td>M</td>\n",
       "    </tr>\n",
       "    <tr>\n",
       "      <th>...</th>\n",
       "      <td>...</td>\n",
       "      <td>...</td>\n",
       "    </tr>\n",
       "    <tr>\n",
       "      <th>101</th>\n",
       "      <td>ccRCC-102</td>\n",
       "      <td>M</td>\n",
       "    </tr>\n",
       "    <tr>\n",
       "      <th>102</th>\n",
       "      <td>ccRCC-103</td>\n",
       "      <td>F</td>\n",
       "    </tr>\n",
       "    <tr>\n",
       "      <th>103</th>\n",
       "      <td>ccRCC-104</td>\n",
       "      <td>F</td>\n",
       "    </tr>\n",
       "    <tr>\n",
       "      <th>104</th>\n",
       "      <td>ccRCC-105</td>\n",
       "      <td>M</td>\n",
       "    </tr>\n",
       "    <tr>\n",
       "      <th>105</th>\n",
       "      <td>ccRCC-106</td>\n",
       "      <td>M</td>\n",
       "    </tr>\n",
       "  </tbody>\n",
       "</table>\n",
       "<p>106 rows × 2 columns</p>\n",
       "</div>"
      ],
      "text/plain": [
       "     sample_ID Sex\n",
       "0      ccRCC-1   F\n",
       "1      ccRCC-2   M\n",
       "2      ccRCC-3   M\n",
       "3      ccRCC-4   M\n",
       "4      ccRCC-5   M\n",
       "..         ...  ..\n",
       "101  ccRCC-102   M\n",
       "102  ccRCC-103   F\n",
       "103  ccRCC-104   F\n",
       "104  ccRCC-105   M\n",
       "105  ccRCC-106   M\n",
       "\n",
       "[106 rows x 2 columns]"
      ]
     },
     "execution_count": 3,
     "metadata": {},
     "output_type": "execute_result"
    }
   ],
   "source": [
    "data_frame"
   ]
  },
  {
   "cell_type": "code",
   "execution_count": 4,
   "metadata": {},
   "outputs": [],
   "source": [
    "data_frame['trans']=data_frame.Sex.apply(lambda x: 1 if 'M' in x else 2)"
   ]
  },
  {
   "cell_type": "code",
   "execution_count": 5,
   "metadata": {},
   "outputs": [],
   "source": [
    "df_2= pd.read_csv('/Users/mstermo/Degree_Project/data/eQTL-ccRCC.PEER_covariates.txt', delimiter = \"\\t\")"
   ]
  },
  {
   "cell_type": "code",
   "execution_count": 6,
   "metadata": {},
   "outputs": [],
   "source": [
    "tmp_list = df_2.columns.values.tolist()"
   ]
  },
  {
   "cell_type": "code",
   "execution_count": 7,
   "metadata": {},
   "outputs": [],
   "source": [
    "list = tmp_list[1:]"
   ]
  },
  {
   "cell_type": "code",
   "execution_count": 8,
   "metadata": {},
   "outputs": [
    {
     "data": {
      "text/plain": [
       "100"
      ]
     },
     "execution_count": 8,
     "metadata": {},
     "output_type": "execute_result"
    }
   ],
   "source": [
    "len(list)"
   ]
  },
  {
   "cell_type": "code",
   "execution_count": 9,
   "metadata": {},
   "outputs": [],
   "source": [
    "#RNA缺少：33 47 57 63 74 101\n",
    "data_frame_new =data_frame.drop([32,46,56,62,73,100])\n",
    "#data_frame_new"
   ]
  },
  {
   "cell_type": "code",
   "execution_count": 10,
   "metadata": {},
   "outputs": [],
   "source": [
    "data_frame_new['real_id'] = list"
   ]
  },
  {
   "cell_type": "code",
   "execution_count": 11,
   "metadata": {},
   "outputs": [],
   "source": [
    "sex_trans_list = data_frame_new['trans']"
   ]
  },
  {
   "cell_type": "code",
   "execution_count": 12,
   "metadata": {},
   "outputs": [],
   "source": [
    "df_sex_covariants= {\"ID\":list,\"sex\":sex_trans_list}"
   ]
  },
  {
   "cell_type": "code",
   "execution_count": 13,
   "metadata": {},
   "outputs": [],
   "source": [
    "df_sex_covariants = pd.DataFrame(df_sex_covariants)\n",
    "df_sex_covariants = df_sex_covariants.T"
   ]
  },
  {
   "cell_type": "code",
   "execution_count": 14,
   "metadata": {},
   "outputs": [
    {
     "data": {
      "text/html": [
       "<div>\n",
       "<style scoped>\n",
       "    .dataframe tbody tr th:only-of-type {\n",
       "        vertical-align: middle;\n",
       "    }\n",
       "\n",
       "    .dataframe tbody tr th {\n",
       "        vertical-align: top;\n",
       "    }\n",
       "\n",
       "    .dataframe thead th {\n",
       "        text-align: right;\n",
       "    }\n",
       "</style>\n",
       "<table border=\"1\" class=\"dataframe\">\n",
       "  <thead>\n",
       "    <tr style=\"text-align: right;\">\n",
       "      <th></th>\n",
       "      <th>0</th>\n",
       "      <th>1</th>\n",
       "      <th>2</th>\n",
       "      <th>3</th>\n",
       "      <th>4</th>\n",
       "      <th>5</th>\n",
       "      <th>6</th>\n",
       "      <th>7</th>\n",
       "      <th>8</th>\n",
       "      <th>9</th>\n",
       "      <th>...</th>\n",
       "      <th>95</th>\n",
       "      <th>96</th>\n",
       "      <th>97</th>\n",
       "      <th>98</th>\n",
       "      <th>99</th>\n",
       "      <th>101</th>\n",
       "      <th>102</th>\n",
       "      <th>103</th>\n",
       "      <th>104</th>\n",
       "      <th>105</th>\n",
       "    </tr>\n",
       "  </thead>\n",
       "  <tbody>\n",
       "    <tr>\n",
       "      <th>ID</th>\n",
       "      <td>EGAR00001120416_ccRCC-1-tumor</td>\n",
       "      <td>EGAR00001120417_ccRCC-2-tumor</td>\n",
       "      <td>EGAR00001120418_ccRCC-3-tumor</td>\n",
       "      <td>EGAR00001120419_ccRCC-4-tumor</td>\n",
       "      <td>EGAR00001120420_ccRCC-5-tumor</td>\n",
       "      <td>EGAR00001120421_ccRCC-6-tumor</td>\n",
       "      <td>EGAR00001120422_ccRCC-7-tumor</td>\n",
       "      <td>EGAR00001120423_ccRCC-8-tumor</td>\n",
       "      <td>EGAR00001120424_ccRCC-9-tumor</td>\n",
       "      <td>EGAR00001120425_ccRCC-10-tumor</td>\n",
       "      <td>...</td>\n",
       "      <td>EGAR00001120511_ccRCC-96-tumor</td>\n",
       "      <td>EGAR00001120512_ccRCC-97-tumor</td>\n",
       "      <td>EGAR00001120513_ccRCC-98-tumor</td>\n",
       "      <td>EGAR00001120514_ccRCC-99-tumor</td>\n",
       "      <td>EGAR00001120515_ccRCC-100-tumor</td>\n",
       "      <td>EGAR00001120517_ccRCC-102-tumor</td>\n",
       "      <td>EGAR00001120518_ccRCC-103-tumor</td>\n",
       "      <td>EGAR00001120519_ccRCC-104-tumor</td>\n",
       "      <td>EGAR00001120520_ccRCC-105-tumor</td>\n",
       "      <td>EGAR00001120521_ccRCC-106-tumor</td>\n",
       "    </tr>\n",
       "    <tr>\n",
       "      <th>sex</th>\n",
       "      <td>2</td>\n",
       "      <td>1</td>\n",
       "      <td>1</td>\n",
       "      <td>1</td>\n",
       "      <td>1</td>\n",
       "      <td>1</td>\n",
       "      <td>2</td>\n",
       "      <td>1</td>\n",
       "      <td>1</td>\n",
       "      <td>1</td>\n",
       "      <td>...</td>\n",
       "      <td>1</td>\n",
       "      <td>1</td>\n",
       "      <td>1</td>\n",
       "      <td>2</td>\n",
       "      <td>1</td>\n",
       "      <td>1</td>\n",
       "      <td>2</td>\n",
       "      <td>2</td>\n",
       "      <td>1</td>\n",
       "      <td>1</td>\n",
       "    </tr>\n",
       "  </tbody>\n",
       "</table>\n",
       "<p>2 rows × 100 columns</p>\n",
       "</div>"
      ],
      "text/plain": [
       "                               0                              1    \\\n",
       "ID   EGAR00001120416_ccRCC-1-tumor  EGAR00001120417_ccRCC-2-tumor   \n",
       "sex                              2                              1   \n",
       "\n",
       "                               2                              3    \\\n",
       "ID   EGAR00001120418_ccRCC-3-tumor  EGAR00001120419_ccRCC-4-tumor   \n",
       "sex                              1                              1   \n",
       "\n",
       "                               4                              5    \\\n",
       "ID   EGAR00001120420_ccRCC-5-tumor  EGAR00001120421_ccRCC-6-tumor   \n",
       "sex                              1                              1   \n",
       "\n",
       "                               6                              7    \\\n",
       "ID   EGAR00001120422_ccRCC-7-tumor  EGAR00001120423_ccRCC-8-tumor   \n",
       "sex                              2                              1   \n",
       "\n",
       "                               8                               9    ...  \\\n",
       "ID   EGAR00001120424_ccRCC-9-tumor  EGAR00001120425_ccRCC-10-tumor  ...   \n",
       "sex                              1                               1  ...   \n",
       "\n",
       "                                95                              96   \\\n",
       "ID   EGAR00001120511_ccRCC-96-tumor  EGAR00001120512_ccRCC-97-tumor   \n",
       "sex                               1                               1   \n",
       "\n",
       "                                97                              98   \\\n",
       "ID   EGAR00001120513_ccRCC-98-tumor  EGAR00001120514_ccRCC-99-tumor   \n",
       "sex                               1                               2   \n",
       "\n",
       "                                 99                               101  \\\n",
       "ID   EGAR00001120515_ccRCC-100-tumor  EGAR00001120517_ccRCC-102-tumor   \n",
       "sex                                1                                1   \n",
       "\n",
       "                                 102                              103  \\\n",
       "ID   EGAR00001120518_ccRCC-103-tumor  EGAR00001120519_ccRCC-104-tumor   \n",
       "sex                                2                                2   \n",
       "\n",
       "                                 104                              105  \n",
       "ID   EGAR00001120520_ccRCC-105-tumor  EGAR00001120521_ccRCC-106-tumor  \n",
       "sex                                1                                1  \n",
       "\n",
       "[2 rows x 100 columns]"
      ]
     },
     "execution_count": 14,
     "metadata": {},
     "output_type": "execute_result"
    }
   ],
   "source": [
    "df_sex_covariants"
   ]
  },
  {
   "cell_type": "code",
   "execution_count": 17,
   "metadata": {},
   "outputs": [],
   "source": [
    "df_sex_covariants.to_csv(\"/Users/mstermo/Degree_Project/data/Sex_cov.txt\",sep='\\t', header = False)"
   ]
  },
  {
   "cell_type": "code",
   "execution_count": null,
   "metadata": {},
   "outputs": [],
   "source": []
  }
 ],
 "metadata": {
  "kernelspec": {
   "display_name": "Python 3",
   "language": "python",
   "name": "python3"
  },
  "language_info": {
   "codemirror_mode": {
    "name": "ipython",
    "version": 3
   },
   "file_extension": ".py",
   "mimetype": "text/x-python",
   "name": "python",
   "nbconvert_exporter": "python",
   "pygments_lexer": "ipython3",
   "version": "3.8.3"
  }
 },
 "nbformat": 4,
 "nbformat_minor": 4
}
